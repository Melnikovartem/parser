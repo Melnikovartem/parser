{
 "cells": [
  {
   "cell_type": "markdown",
   "metadata": {},
   "source": [
    "Here i will research some data before combining everything into a big parser\n",
    "\n",
    "Задача: есть компания продающая некторый товар на нескольких маркетплейсах. Задача как можно лучше парсить информацию с маркетплейсов и нормально выдавать её, чтобы можно было понимать состояние твоего товара на сайте.\n",
    "\n",
    "### Plan:\n",
    "\n",
    "- ozon\n",
    "- wildberries\n",
    "- Десткий мир\n",
    "\n",
    "План минимум на летний миникурс: парсить wildberries и простой сервер, чтобы можно было просматривать бд с информацией по артикулу."
   ]
  },
  {
   "cell_type": "markdown",
   "metadata": {},
   "source": [
    "Так начнем с beaiful soup и функции, что возвращает информации со страницы: https://www.wildberries.ru/catalog/15037145/detail.aspx?targetUrl=BP\n",
    "\n",
    "Беда в том, что если и существуют решения, то они все кастомные под какие-то задачи. Официальных решений (aka api) я не нашел"
   ]
  },
  {
   "cell_type": "code",
   "execution_count": null,
   "metadata": {},
   "outputs": [],
   "source": []
  },
  {
   "cell_type": "code",
   "execution_count": null,
   "metadata": {},
   "outputs": [],
   "source": []
  }
 ],
 "metadata": {
  "kernelspec": {
   "display_name": "Python 3",
   "language": "python",
   "name": "python3"
  },
  "language_info": {
   "codemirror_mode": {
    "name": "ipython",
    "version": 3
   },
   "file_extension": ".py",
   "mimetype": "text/x-python",
   "name": "python",
   "nbconvert_exporter": "python",
   "pygments_lexer": "ipython3",
   "version": "3.7.6"
  }
 },
 "nbformat": 4,
 "nbformat_minor": 4
}
